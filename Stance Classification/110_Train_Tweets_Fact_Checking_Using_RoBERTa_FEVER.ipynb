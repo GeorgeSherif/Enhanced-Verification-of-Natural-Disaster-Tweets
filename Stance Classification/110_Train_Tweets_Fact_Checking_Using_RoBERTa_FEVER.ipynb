{
  "cells": [
    {
      "cell_type": "markdown",
      "metadata": {
        "id": "lLvx9SJPxK59"
      },
      "source": [
        "# Loading the data and preprocessing the tweets\n"
      ]
    },
    {
      "cell_type": "code",
      "execution_count": 1,
      "metadata": {
        "id": "6_8-lgtTxWJh"
      },
      "outputs": [
        {
          "data": {
            "text/plain": [
              "(110, 3)"
            ]
          },
          "execution_count": 1,
          "metadata": {},
          "output_type": "execute_result"
        }
      ],
      "source": [
        "import pandas as pd\n",
        "path = \"/home/george.ibrahim/Downloads/AI701/Project/110Train.xlsx\"\n",
        "\n",
        "df = pd.read_excel(path)\n",
        "\n",
        "sources = df['source']\n",
        "df['concatenated'] = df['headers'] + df['documents']\n",
        "df.rename(columns={'processed_tweet': 'Headline', 'concatenated': 'articleBody', 'target': 'label'}, inplace=True)\n",
        "df = df[['articleBody', 'Headline', 'label']]\n",
        "df.shape"
      ]
    },
    {
      "cell_type": "code",
      "execution_count": 2,
      "metadata": {},
      "outputs": [
        {
          "data": {
            "text/html": [
              "<div>\n",
              "<style scoped>\n",
              "    .dataframe tbody tr th:only-of-type {\n",
              "        vertical-align: middle;\n",
              "    }\n",
              "\n",
              "    .dataframe tbody tr th {\n",
              "        vertical-align: top;\n",
              "    }\n",
              "\n",
              "    .dataframe thead th {\n",
              "        text-align: right;\n",
              "    }\n",
              "</style>\n",
              "<table border=\"1\" class=\"dataframe\">\n",
              "  <thead>\n",
              "    <tr style=\"text-align: right;\">\n",
              "      <th></th>\n",
              "      <th>articleBody</th>\n",
              "      <th>Headline</th>\n",
              "      <th>label</th>\n",
              "    </tr>\n",
              "  </thead>\n",
              "  <tbody>\n",
              "    <tr>\n",
              "      <th>0</th>\n",
              "      <td>A Family's Perspective – “The Brutality of Sep...</td>\n",
              "      <td>People who try to j-walk while an ambulance is...</td>\n",
              "      <td>0</td>\n",
              "    </tr>\n",
              "    <tr>\n",
              "      <th>1</th>\n",
              "      <td>Who's Fault was it really that Cell reached hi...</td>\n",
              "      <td>The episode where Trunks annihilated Freiza is...</td>\n",
              "      <td>0</td>\n",
              "    </tr>\n",
              "    <tr>\n",
              "      <th>2</th>\n",
              "      <td>How I almost won an NLP competition without kn...</td>\n",
              "      <td>marksmaponyane Hey ! Sundowns were annihilated...</td>\n",
              "      <td>0</td>\n",
              "    </tr>\n",
              "    <tr>\n",
              "      <th>3</th>\n",
              "      <td>The American Genocide of the Indians—Historica...</td>\n",
              "      <td>70 year since we annihilated 100000 people ins...</td>\n",
              "      <td>1</td>\n",
              "    </tr>\n",
              "    <tr>\n",
              "      <th>4</th>\n",
              "      <td>Greatest Stories Ever Told - \"My Brother Esau\"...</td>\n",
              "      <td>Shadow boxing the apocalypse</td>\n",
              "      <td>1</td>\n",
              "    </tr>\n",
              "    <tr>\n",
              "      <th>...</th>\n",
              "      <td>...</td>\n",
              "      <td>...</td>\n",
              "      <td>...</td>\n",
              "    </tr>\n",
              "    <tr>\n",
              "      <th>105</th>\n",
              "      <td>A Family's Perspective – “The Brutality of Sep...</td>\n",
              "      <td>Doing dialysis to my grandpa and oh lord this ...</td>\n",
              "      <td>0</td>\n",
              "    </tr>\n",
              "    <tr>\n",
              "      <th>106</th>\n",
              "      <td>my best employee quit on the spot because I wo...</td>\n",
              "      <td>My blood pressure is through the roof I do n't...</td>\n",
              "      <td>0</td>\n",
              "    </tr>\n",
              "    <tr>\n",
              "      <th>107</th>\n",
              "      <td>[Terrific Trainwreck Trio Rewatch] Kakumeiki V...</td>\n",
              "      <td>Guys . I have an Imouto Who Is n't Actually Re...</td>\n",
              "      <td>0</td>\n",
              "    </tr>\n",
              "    <tr>\n",
              "      <th>108</th>\n",
              "      <td>Blood and Ink Izuku - Dreams Do(n't) Come True...</td>\n",
              "      <td>If it wa n't for the Blood ! ? ? ? ?</td>\n",
              "      <td>0</td>\n",
              "    </tr>\n",
              "    <tr>\n",
              "      <th>109</th>\n",
              "      <td>Is it just me, or does Redemption kinda suck? ...</td>\n",
              "      <td>No kinda in it that shii nasty blood . No pun ...</td>\n",
              "      <td>0</td>\n",
              "    </tr>\n",
              "  </tbody>\n",
              "</table>\n",
              "<p>110 rows × 3 columns</p>\n",
              "</div>"
            ],
            "text/plain": [
              "                                           articleBody  \\\n",
              "0    A Family's Perspective – “The Brutality of Sep...   \n",
              "1    Who's Fault was it really that Cell reached hi...   \n",
              "2    How I almost won an NLP competition without kn...   \n",
              "3    The American Genocide of the Indians—Historica...   \n",
              "4    Greatest Stories Ever Told - \"My Brother Esau\"...   \n",
              "..                                                 ...   \n",
              "105  A Family's Perspective – “The Brutality of Sep...   \n",
              "106  my best employee quit on the spot because I wo...   \n",
              "107  [Terrific Trainwreck Trio Rewatch] Kakumeiki V...   \n",
              "108  Blood and Ink Izuku - Dreams Do(n't) Come True...   \n",
              "109  Is it just me, or does Redemption kinda suck? ...   \n",
              "\n",
              "                                              Headline  label  \n",
              "0    People who try to j-walk while an ambulance is...      0  \n",
              "1    The episode where Trunks annihilated Freiza is...      0  \n",
              "2    marksmaponyane Hey ! Sundowns were annihilated...      0  \n",
              "3    70 year since we annihilated 100000 people ins...      1  \n",
              "4                         Shadow boxing the apocalypse      1  \n",
              "..                                                 ...    ...  \n",
              "105  Doing dialysis to my grandpa and oh lord this ...      0  \n",
              "106  My blood pressure is through the roof I do n't...      0  \n",
              "107  Guys . I have an Imouto Who Is n't Actually Re...      0  \n",
              "108               If it wa n't for the Blood ! ? ? ? ?      0  \n",
              "109  No kinda in it that shii nasty blood . No pun ...      0  \n",
              "\n",
              "[110 rows x 3 columns]"
            ]
          },
          "execution_count": 2,
          "metadata": {},
          "output_type": "execute_result"
        }
      ],
      "source": [
        "import re\n",
        "\n",
        "def clean(text):\n",
        "\n",
        "    # Remove URLs\n",
        "    text = re.sub(r'http\\S+|www\\S+|https\\S+', '', text, flags=re.MULTILINE)\n",
        "    text = re.sub(r'\\@\\w+|\\#','', text)\n",
        "    text = re.sub(r'[^\\w\\s]', '', text)\n",
        "    return text\n",
        "\n",
        "df"
      ]
    },
    {
      "cell_type": "code",
      "execution_count": 3,
      "metadata": {
        "id": "TwxaFcHKzYPk"
      },
      "outputs": [
        {
          "name": "stderr",
          "output_type": "stream",
          "text": [
            "/home/george.ibrahim/anaconda3/envs/common/lib/python3.10/site-packages/tqdm/auto.py:21: TqdmWarning: IProgress not found. Please update jupyter and ipywidgets. See https://ipywidgets.readthedocs.io/en/stable/user_install.html\n",
            "  from .autonotebook import tqdm as notebook_tqdm\n"
          ]
        }
      ],
      "source": [
        "from transformers import RobertaTokenizer, RobertaForSequenceClassification\n",
        "# Path to your saved model\n",
        "model_path = \"/RoBERTa_Fever_7(Balanced)\"\n",
        "\n",
        "# Load the tokenizer and model\n",
        "tokenizer = RobertaTokenizer.from_pretrained(model_path)\n",
        "model = RobertaForSequenceClassification.from_pretrained(model_path)\n"
      ]
    },
    {
      "cell_type": "code",
      "execution_count": 4,
      "metadata": {
        "id": "MLJubR-XXnHs"
      },
      "outputs": [],
      "source": [
        "import torch\n",
        "from torch.utils.data import Dataset, DataLoader\n",
        "from transformers import RobertaTokenizer, RobertaForSequenceClassification, AdamW\n",
        "from sklearn.model_selection import train_test_split\n",
        "from sklearn.metrics import accuracy_score\n",
        "from transformers import BertTokenizer\n",
        "\n",
        "class StanceDataset(Dataset):\n",
        "    def __init__(self, headlines, bodies, labels, tokenizer, max_len):\n",
        "        self.headlines = headlines\n",
        "        self.bodies = bodies\n",
        "        self.labels = labels\n",
        "        self.tokenizer = tokenizer\n",
        "        self.max_len = max_len\n",
        "\n",
        "    def __len__(self):\n",
        "        return len(self.headlines)\n",
        "\n",
        "    def __getitem__(self, item):\n",
        "        headline = str(self.headlines[item])\n",
        "        body = str(self.bodies[item])\n",
        "        label = self.labels[item]\n",
        "\n",
        "        # Combine headline and body for tokenization\n",
        "        combined_text = headline + \" \" + body\n",
        "\n",
        "        encoding = self.tokenizer.encode_plus(\n",
        "            combined_text,\n",
        "            add_special_tokens=True,\n",
        "            max_length=self.max_len,\n",
        "            truncation=True,\n",
        "            return_token_type_ids=False,\n",
        "            pad_to_max_length=True,\n",
        "            return_attention_mask=True,\n",
        "            return_tensors='pt',\n",
        "        )\n",
        "        return {\n",
        "            'input_ids': encoding['input_ids'].flatten(),\n",
        "            'attention_mask': encoding['attention_mask'].flatten(),\n",
        "            'labels': torch.tensor(label, dtype=torch.long)\n",
        "        }\n"
      ]
    },
    {
      "cell_type": "code",
      "execution_count": 5,
      "metadata": {
        "id": "7QHckjB5XsqS"
      },
      "outputs": [],
      "source": [
        "test_dataset = StanceDataset(\n",
        "    headlines = df.Headline.to_numpy(),\n",
        "    bodies = df.articleBody.to_numpy(),\n",
        "    labels = df.label.to_numpy(),\n",
        "    tokenizer = tokenizer,\n",
        "    max_len = 350\n",
        ")"
      ]
    },
    {
      "cell_type": "code",
      "execution_count": 6,
      "metadata": {
        "id": "jT8yTjl4XulA"
      },
      "outputs": [],
      "source": [
        "batch_size = 1\n",
        "test_data_loader = DataLoader(test_dataset, batch_size=batch_size)"
      ]
    },
    {
      "cell_type": "code",
      "execution_count": 7,
      "metadata": {
        "colab": {
          "base_uri": "https://localhost:8080/"
        },
        "id": "u5_xdKYTX0Gp",
        "outputId": "733e0d6f-8813-49e9-87b0-b7c860a50b40"
      },
      "outputs": [
        {
          "name": "stderr",
          "output_type": "stream",
          "text": [
            "/home/george.ibrahim/anaconda3/envs/common/lib/python3.10/site-packages/transformers/tokenization_utils_base.py:2614: FutureWarning: The `pad_to_max_length` argument is deprecated and will be removed in a future version, use `padding=True` or `padding='longest'` to pad to the longest sequence in the batch, or use `padding='max_length'` to pad to a max length. In this case, you can give a specific length with `max_length` (e.g. `max_length=45`) or leave max_length to None to pad to the maximal input size of the model (e.g. 512 for Bert).\n",
            "  warnings.warn(\n"
          ]
        },
        {
          "name": "stdout",
          "output_type": "stream",
          "text": [
            "Test Accuracy: 0.75\n",
            "Test Precision: 0.45\n",
            "Test Recall: 0.58\n",
            "Test F1-Score: 0.51\n"
          ]
        }
      ],
      "source": [
        "from sklearn.metrics import precision_score, recall_score, accuracy_score, f1_score\n",
        "import numpy as np\n",
        "# Initialize lists to store all predictions and labels\n",
        "all_predictions = []\n",
        "all_true_labels = []\n",
        "\n",
        "device = torch.device(\"cuda\" if torch.cuda.is_available() else \"cpu\")\n",
        "model = model.to(device)\n",
        "\n",
        "# Evaluation\n",
        "model.eval()\n",
        "\n",
        "for batch in test_data_loader:\n",
        "    input_ids = batch['input_ids'].to(device)\n",
        "    attention_mask = batch['attention_mask'].to(device)\n",
        "    labels = batch['labels'].to(device)\n",
        "\n",
        "    with torch.no_grad():\n",
        "        outputs = model(input_ids, attention_mask=attention_mask, labels=labels)\n",
        "\n",
        "    logits = outputs.logits\n",
        "    logits = logits.detach().cpu().numpy()\n",
        "    label_ids = labels.to('cpu').numpy()\n",
        "\n",
        "    # Flatten the outputs and labels and store them\n",
        "    all_predictions.extend(np.argmax(logits, axis=1).flatten())\n",
        "    all_true_labels.extend(label_ids.flatten())\n",
        "\n",
        "# Compute metrics\n",
        "accuracy = accuracy_score(all_true_labels, all_predictions)\n",
        "precision = precision_score(all_true_labels, all_predictions)  \n",
        "recall = recall_score(all_true_labels, all_predictions)  \n",
        "f1_score = f1_score(all_true_labels, all_predictions)  \n",
        "\n",
        "# Print metrics\n",
        "print(\"Test Accuracy: {0:.2f}\".format(accuracy))\n",
        "print(\"Test Precision: {0:.2f}\".format(precision))\n",
        "print(\"Test Recall: {0:.2f}\".format(recall))\n",
        "print(\"Test F1-Score: {0:.2f}\".format(f1_score))\n"
      ]
    },
    {
      "cell_type": "code",
      "execution_count": 8,
      "metadata": {
        "colab": {
          "base_uri": "https://localhost:8080/"
        },
        "id": "ntP-a-ZfX5vN",
        "outputId": "f6be1f64-8289-4fa3-eaa9-ff9a5f16c863"
      },
      "outputs": [
        {
          "name": "stdout",
          "output_type": "stream",
          "text": [
            "[0, 0, 0, 1, 0, 1, 0, 1, 1, 1, 1, 0, 0, 1, 1, 0, 0, 0, 0, 1, 1, 0, 0, 1, 0, 0, 0, 0, 0, 0, 0, 0, 0, 1, 0, 0, 1, 0, 0, 1, 1, 0, 0, 0, 1, 0, 0, 1, 0, 0, 0, 0, 0, 0, 0, 0, 1, 0, 0, 0, 0, 0, 0, 1, 0, 0, 0, 1, 0, 0, 0, 1, 1, 0, 1, 0, 1, 1, 0, 1, 0, 0, 0, 0, 0, 0, 1, 0, 0, 0, 0, 0, 0, 0, 0, 0, 0, 1, 0, 1, 0, 0, 0, 0, 1, 0, 0, 0, 0, 1]\n",
            "                                           articleBody  \\\n",
            "0    A Family's Perspective – “The Brutality of Sep...   \n",
            "1    Who's Fault was it really that Cell reached hi...   \n",
            "2    How I almost won an NLP competition without kn...   \n",
            "3    The American Genocide of the Indians—Historica...   \n",
            "4    Greatest Stories Ever Told - \"My Brother Esau\"...   \n",
            "..                                                 ...   \n",
            "105  A Family's Perspective – “The Brutality of Sep...   \n",
            "106  my best employee quit on the spot because I wo...   \n",
            "107  [Terrific Trainwreck Trio Rewatch] Kakumeiki V...   \n",
            "108  Blood and Ink Izuku - Dreams Do(n't) Come True...   \n",
            "109  Is it just me, or does Redemption kinda suck? ...   \n",
            "\n",
            "                                              Headline  label  Predictions  \n",
            "0    People who try to j-walk while an ambulance is...      0            0  \n",
            "1    The episode where Trunks annihilated Freiza is...      0            0  \n",
            "2    marksmaponyane Hey ! Sundowns were annihilated...      0            0  \n",
            "3    70 year since we annihilated 100000 people ins...      1            1  \n",
            "4                         Shadow boxing the apocalypse      1            0  \n",
            "..                                                 ...    ...          ...  \n",
            "105  Doing dialysis to my grandpa and oh lord this ...      0            0  \n",
            "106  My blood pressure is through the roof I do n't...      0            0  \n",
            "107  Guys . I have an Imouto Who Is n't Actually Re...      0            0  \n",
            "108               If it wa n't for the Blood ! ? ? ? ?      0            0  \n",
            "109  No kinda in it that shii nasty blood . No pun ...      0            1  \n",
            "\n",
            "[110 rows x 4 columns]\n"
          ]
        }
      ],
      "source": [
        "import pandas as pd\n",
        "\n",
        "# Let's assume 'original_dataset' is your initial DataFrame and 'predictions' is the list you obtained\n",
        "print(all_predictions)\n",
        "# First, convert the predictions list to a Pandas Series\n",
        "predictions_series = pd.Series(all_predictions, name='Predictions')\n",
        "\n",
        "# Now, concatenate this series to the original DataFrame\n",
        "# Make sure the lengths of 'original_dataset' and 'predictions_series' match\n",
        "if len(df) == len(predictions_series):\n",
        "    enhanced_dataset = pd.concat([df, predictions_series], axis=1)\n",
        "else:\n",
        "    print(\"Error: The length of the dataset and the predictions do not match.\")\n",
        "\n",
        "# You can now work with 'enhanced_dataset' which includes your predictions.\n",
        "enhanced_dataset = pd.DataFrame(enhanced_dataset)\n",
        "print(enhanced_dataset)\n"
      ]
    },
    {
      "cell_type": "code",
      "execution_count": 9,
      "metadata": {},
      "outputs": [],
      "source": []
    }
  ],
  "metadata": {
    "accelerator": "GPU",
    "colab": {
      "gpuType": "T4",
      "provenance": []
    },
    "kernelspec": {
      "display_name": "Python 3",
      "name": "python3"
    },
    "language_info": {
      "codemirror_mode": {
        "name": "ipython",
        "version": 3
      },
      "file_extension": ".py",
      "mimetype": "text/x-python",
      "name": "python",
      "nbconvert_exporter": "python",
      "pygments_lexer": "ipython3",
      "version": "3.10.13"
    }
  },
  "nbformat": 4,
  "nbformat_minor": 0
}

{
  "cells": [
    {
      "cell_type": "code",
      "execution_count": 3,
      "metadata": {
        "id": "HYnB6g0noMVv"
      },
      "outputs": [
        {
          "data": {
            "text/plain": [
              "label\n",
              "0    21257\n",
              "1     8743\n",
              "Name: count, dtype: int64"
            ]
          },
          "execution_count": 3,
          "metadata": {},
          "output_type": "execute_result"
        }
      ],
      "source": [
        "from datasets import load_dataset\n",
        "import pandas as pd\n",
        "\n",
        "dataset = load_dataset(\"mwong/fever-evidence-related\")\n",
        "train_dataset = dataset['train']\n",
        "train_dataset\n",
        "df = pd.DataFrame(train_dataset)\n",
        "df = df.drop([\"input_ids\", \"attention_mask\"], axis = 1)\n",
        "df = df.rename(columns={'labels': 'label', 'claim': 'Headline', 'evidence': 'articleBody'})\n",
        "df = df.head(30000)\n",
        "df['label'].value_counts()"
      ]
    },
    {
      "cell_type": "code",
      "execution_count": 11,
      "metadata": {},
      "outputs": [
        {
          "data": {
            "text/plain": [
              "label\n",
              "0    5000\n",
              "1    5000\n",
              "Name: count, dtype: int64"
            ]
          },
          "execution_count": 11,
          "metadata": {},
          "output_type": "execute_result"
        }
      ],
      "source": [
        "import pandas as pd\n",
        "from sklearn.utils import resample\n",
        "\n",
        "# Assuming your dataframe is named df and the class label column is named 'label'\n",
        "\n",
        "# Separate the classes\n",
        "df_class_0 = df[df.label == 0]\n",
        "df_class_1 = df[df.label == 1]\n",
        "\n",
        "# Resample each class to desired number of samples\n",
        "df_class_0_resampled = resample(df_class_0, \n",
        "                                replace=True,     # sample with replacement\n",
        "                                n_samples=5000,   # to match majority class\n",
        "                                random_state=123) # reproducible results\n",
        "\n",
        "df_class_1_resampled = resample(df_class_1, \n",
        "                                replace=True,     # sample with replacement\n",
        "                                n_samples=5000,   # to match majority class\n",
        "                                random_state=123) # reproducible results\n",
        "\n",
        "# Combine the resampled classes back into one DataFrame\n",
        "balanced_df = pd.concat([df_class_0_resampled, df_class_1_resampled])\n",
        "\n",
        "# Shuffle the dataset (optional but recommended)\n",
        "df = balanced_df.sample(frac=1, random_state=123).reset_index(drop=True)\n",
        "\n",
        "# Now balanced_df is your balanced dataset\n",
        "df.head()\n",
        "df['label'].value_counts()"
      ]
    },
    {
      "cell_type": "code",
      "execution_count": 12,
      "metadata": {
        "id": "4Xp1DOY4CPZR"
      },
      "outputs": [],
      "source": [
        "import torch\n",
        "from torch.utils.data import Dataset, DataLoader\n",
        "from transformers import RobertaTokenizer, RobertaForSequenceClassification, AdamW\n",
        "from sklearn.model_selection import train_test_split"
      ]
    },
    {
      "cell_type": "code",
      "execution_count": 13,
      "metadata": {
        "colab": {
          "base_uri": "https://localhost:8080/"
        },
        "id": "Mp5N62iFCjjY",
        "outputId": "ff6fa900-e9b4-4520-90c6-ffa13aa1fbca"
      },
      "outputs": [
        {
          "name": "stderr",
          "output_type": "stream",
          "text": [
            "Some weights of RobertaForSequenceClassification were not initialized from the model checkpoint at roberta-base and are newly initialized: ['classifier.out_proj.bias', 'classifier.dense.bias', 'classifier.out_proj.weight', 'classifier.dense.weight']\n",
            "You should probably TRAIN this model on a down-stream task to be able to use it for predictions and inference.\n"
          ]
        }
      ],
      "source": [
        "tokenizer = RobertaTokenizer.from_pretrained('roberta-base')\n",
        "model = RobertaForSequenceClassification.from_pretrained('roberta-base', num_labels=2)\n"
      ]
    },
    {
      "cell_type": "code",
      "execution_count": 14,
      "metadata": {
        "id": "D6c-J1eiChbB"
      },
      "outputs": [],
      "source": [
        "class StanceDataset(Dataset):\n",
        "    def __init__(self, headlines, bodies, labels, tokenizer, max_len):\n",
        "        self.headlines = headlines\n",
        "        self.bodies = bodies\n",
        "        self.labels = labels\n",
        "        self.tokenizer = tokenizer\n",
        "        self.max_len = max_len\n",
        "\n",
        "    def __len__(self):\n",
        "        return len(self.headlines)\n",
        "\n",
        "    def __getitem__(self, item):\n",
        "        headline = str(self.headlines[item])\n",
        "        body = str(self.bodies[item])\n",
        "        label = self.labels[item]\n",
        "\n",
        "        # Combine headline and body for tokenization\n",
        "        combined_text = headline + \" \" + body\n",
        "\n",
        "        encoding = self.tokenizer.encode_plus(\n",
        "            combined_text,\n",
        "            add_special_tokens=True,\n",
        "            max_length=self.max_len,\n",
        "            truncation=True,\n",
        "            return_token_type_ids=False,\n",
        "            pad_to_max_length=True,\n",
        "            return_attention_mask=True,\n",
        "            return_tensors='pt',\n",
        "        )\n",
        "        return {\n",
        "            'input_ids': encoding['input_ids'].flatten(),\n",
        "            'attention_mask': encoding['attention_mask'].flatten(),\n",
        "            'labels': torch.tensor(label, dtype=torch.long)\n",
        "        }\n"
      ]
    },
    {
      "cell_type": "code",
      "execution_count": 15,
      "metadata": {
        "colab": {
          "base_uri": "https://localhost:8080/"
        },
        "id": "L-1bsesiDDx8",
        "outputId": "92957c6b-7f56-4401-d730-ec2e4e8d46dc"
      },
      "outputs": [
        {
          "name": "stdout",
          "output_type": "stream",
          "text": [
            "(8000, 3)\n",
            "(1000, 3)\n",
            "(1000, 3)\n"
          ]
        }
      ],
      "source": [
        "# Split into train and validation sets\n",
        "train_df, temp_df = train_test_split(df, test_size=0.2)  # Adjust the test_size as needed\n",
        "val_df, test_df = train_test_split(temp_df, test_size=0.5)  # Split the temp_df equally into validation and test\n",
        "\n",
        "print(train_df.shape)\n",
        "print(val_df.shape)\n",
        "print(test_df.shape)\n",
        "\n",
        "# Create training dataset\n",
        "train_dataset = StanceDataset(\n",
        "    headlines = train_df.Headline.to_numpy(),\n",
        "    bodies = train_df.articleBody.to_numpy(),\n",
        "    labels = train_df.label.to_numpy(),\n",
        "    tokenizer = tokenizer,\n",
        "    max_len = 350\n",
        ")\n",
        "\n",
        "# Create validation dataset\n",
        "val_dataset = StanceDataset(\n",
        "    headlines = val_df.Headline.to_numpy(),\n",
        "    bodies = val_df.articleBody.to_numpy(),\n",
        "    labels = val_df.label.to_numpy(),\n",
        "    tokenizer = tokenizer,\n",
        "    max_len = 350\n",
        ")\n",
        "\n",
        "# Create test dataset\n",
        "test_dataset = StanceDataset(\n",
        "    headlines = test_df.Headline.to_numpy(),\n",
        "    bodies = test_df.articleBody.to_numpy(),\n",
        "    labels = test_df.label.to_numpy(),\n",
        "    tokenizer = tokenizer,\n",
        "    max_len = 350\n",
        ")\n"
      ]
    },
    {
      "cell_type": "code",
      "execution_count": 16,
      "metadata": {
        "id": "i9cWz9xeDTh2"
      },
      "outputs": [],
      "source": [
        "batch_size = 16\n",
        "\n",
        "train_data_loader = DataLoader(train_dataset, batch_size=batch_size, shuffle=True)\n",
        "val_data_loader = DataLoader(val_dataset, batch_size=batch_size)\n",
        "test_data_loader = DataLoader(test_dataset, batch_size=batch_size)"
      ]
    },
    {
      "cell_type": "code",
      "execution_count": 17,
      "metadata": {
        "colab": {
          "base_uri": "https://localhost:8080/"
        },
        "id": "c2Wf4-Q1DV-p",
        "outputId": "c92fc4ad-23d7-4abd-8d97-7d67d4b56747"
      },
      "outputs": [
        {
          "name": "stderr",
          "output_type": "stream",
          "text": [
            "Epoch 1/16 [Training]: 100%|██████████| 500/500 [06:11<00:00,  1.34it/s]\n"
          ]
        },
        {
          "name": "stdout",
          "output_type": "stream",
          "text": [
            "Epoch 1/16 - Average Training Loss: 0.1011\n"
          ]
        },
        {
          "name": "stderr",
          "output_type": "stream",
          "text": [
            "                                                                        \r"
          ]
        },
        {
          "name": "stdout",
          "output_type": "stream",
          "text": [
            "Epoch 1/16 - Accuracy: 0.9960\n",
            "Epoch 1/16 - Precision: 0.9959\n",
            "Epoch 1/16 - Recall: 0.9959\n"
          ]
        },
        {
          "name": "stderr",
          "output_type": "stream",
          "text": [
            "Epoch 2/16 [Training]:   0%|          | 0/500 [00:00<?, ?it/s]/home/george.ibrahim/anaconda3/envs/common/lib/python3.10/site-packages/transformers/tokenization_utils_base.py:2614: FutureWarning: The `pad_to_max_length` argument is deprecated and will be removed in a future version, use `padding=True` or `padding='longest'` to pad to the longest sequence in the batch, or use `padding='max_length'` to pad to a max length. In this case, you can give a specific length with `max_length` (e.g. `max_length=45`) or leave max_length to None to pad to the maximal input size of the model (e.g. 512 for Bert).\n",
            "  warnings.warn(\n",
            "Epoch 2/16 [Training]: 100%|██████████| 500/500 [06:11<00:00,  1.35it/s]\n"
          ]
        },
        {
          "name": "stdout",
          "output_type": "stream",
          "text": [
            "Epoch 2/16 - Average Training Loss: 0.0174\n"
          ]
        },
        {
          "name": "stderr",
          "output_type": "stream",
          "text": [
            "                                                                        \r"
          ]
        },
        {
          "name": "stdout",
          "output_type": "stream",
          "text": [
            "Epoch 2/16 - Accuracy: 0.9970\n",
            "Epoch 2/16 - Precision: 0.9959\n",
            "Epoch 2/16 - Recall: 0.9979\n"
          ]
        },
        {
          "name": "stderr",
          "output_type": "stream",
          "text": [
            "Epoch 3/16 [Training]:   0%|          | 0/500 [00:00<?, ?it/s]/home/george.ibrahim/anaconda3/envs/common/lib/python3.10/site-packages/transformers/tokenization_utils_base.py:2614: FutureWarning: The `pad_to_max_length` argument is deprecated and will be removed in a future version, use `padding=True` or `padding='longest'` to pad to the longest sequence in the batch, or use `padding='max_length'` to pad to a max length. In this case, you can give a specific length with `max_length` (e.g. `max_length=45`) or leave max_length to None to pad to the maximal input size of the model (e.g. 512 for Bert).\n",
            "  warnings.warn(\n",
            "Epoch 3/16 [Training]: 100%|██████████| 500/500 [06:11<00:00,  1.35it/s]\n"
          ]
        },
        {
          "name": "stdout",
          "output_type": "stream",
          "text": [
            "Epoch 3/16 - Average Training Loss: 0.0091\n"
          ]
        },
        {
          "name": "stderr",
          "output_type": "stream",
          "text": [
            "                                                                        \r"
          ]
        },
        {
          "name": "stdout",
          "output_type": "stream",
          "text": [
            "Epoch 3/16 - Accuracy: 0.9960\n",
            "Epoch 3/16 - Precision: 0.9979\n",
            "Epoch 3/16 - Recall: 0.9938\n"
          ]
        },
        {
          "name": "stderr",
          "output_type": "stream",
          "text": [
            "Epoch 4/16 [Training]:   0%|          | 0/500 [00:00<?, ?it/s]/home/george.ibrahim/anaconda3/envs/common/lib/python3.10/site-packages/transformers/tokenization_utils_base.py:2614: FutureWarning: The `pad_to_max_length` argument is deprecated and will be removed in a future version, use `padding=True` or `padding='longest'` to pad to the longest sequence in the batch, or use `padding='max_length'` to pad to a max length. In this case, you can give a specific length with `max_length` (e.g. `max_length=45`) or leave max_length to None to pad to the maximal input size of the model (e.g. 512 for Bert).\n",
            "  warnings.warn(\n",
            "Epoch 4/16 [Training]: 100%|██████████| 500/500 [06:12<00:00,  1.34it/s]\n"
          ]
        },
        {
          "name": "stdout",
          "output_type": "stream",
          "text": [
            "Epoch 4/16 - Average Training Loss: 0.0078\n"
          ]
        },
        {
          "name": "stderr",
          "output_type": "stream",
          "text": [
            "                                                                        \r"
          ]
        },
        {
          "name": "stdout",
          "output_type": "stream",
          "text": [
            "Epoch 4/16 - Accuracy: 0.9980\n",
            "Epoch 4/16 - Precision: 0.9979\n",
            "Epoch 4/16 - Recall: 0.9979\n"
          ]
        },
        {
          "name": "stderr",
          "output_type": "stream",
          "text": [
            "Epoch 5/16 [Training]:   0%|          | 0/500 [00:00<?, ?it/s]/home/george.ibrahim/anaconda3/envs/common/lib/python3.10/site-packages/transformers/tokenization_utils_base.py:2614: FutureWarning: The `pad_to_max_length` argument is deprecated and will be removed in a future version, use `padding=True` or `padding='longest'` to pad to the longest sequence in the batch, or use `padding='max_length'` to pad to a max length. In this case, you can give a specific length with `max_length` (e.g. `max_length=45`) or leave max_length to None to pad to the maximal input size of the model (e.g. 512 for Bert).\n",
            "  warnings.warn(\n",
            "Epoch 5/16 [Training]: 100%|██████████| 500/500 [06:11<00:00,  1.34it/s]\n"
          ]
        },
        {
          "name": "stdout",
          "output_type": "stream",
          "text": [
            "Epoch 5/16 - Average Training Loss: 0.0047\n"
          ]
        },
        {
          "name": "stderr",
          "output_type": "stream",
          "text": [
            "                                                                        \r"
          ]
        },
        {
          "name": "stdout",
          "output_type": "stream",
          "text": [
            "Epoch 5/16 - Accuracy: 0.9970\n",
            "Epoch 5/16 - Precision: 0.9939\n",
            "Epoch 5/16 - Recall: 1.0000\n"
          ]
        },
        {
          "name": "stderr",
          "output_type": "stream",
          "text": [
            "Epoch 6/16 [Training]:   0%|          | 0/500 [00:00<?, ?it/s]/home/george.ibrahim/anaconda3/envs/common/lib/python3.10/site-packages/transformers/tokenization_utils_base.py:2614: FutureWarning: The `pad_to_max_length` argument is deprecated and will be removed in a future version, use `padding=True` or `padding='longest'` to pad to the longest sequence in the batch, or use `padding='max_length'` to pad to a max length. In this case, you can give a specific length with `max_length` (e.g. `max_length=45`) or leave max_length to None to pad to the maximal input size of the model (e.g. 512 for Bert).\n",
            "  warnings.warn(\n",
            "Epoch 6/16 [Training]: 100%|██████████| 500/500 [06:12<00:00,  1.34it/s]\n"
          ]
        },
        {
          "name": "stdout",
          "output_type": "stream",
          "text": [
            "Epoch 6/16 - Average Training Loss: 0.0070\n"
          ]
        },
        {
          "name": "stderr",
          "output_type": "stream",
          "text": [
            "                                                                        \r"
          ]
        },
        {
          "name": "stdout",
          "output_type": "stream",
          "text": [
            "Epoch 6/16 - Accuracy: 0.9970\n",
            "Epoch 6/16 - Precision: 0.9959\n",
            "Epoch 6/16 - Recall: 0.9979\n"
          ]
        },
        {
          "name": "stderr",
          "output_type": "stream",
          "text": [
            "Epoch 7/16 [Training]:   0%|          | 0/500 [00:00<?, ?it/s]/home/george.ibrahim/anaconda3/envs/common/lib/python3.10/site-packages/transformers/tokenization_utils_base.py:2614: FutureWarning: The `pad_to_max_length` argument is deprecated and will be removed in a future version, use `padding=True` or `padding='longest'` to pad to the longest sequence in the batch, or use `padding='max_length'` to pad to a max length. In this case, you can give a specific length with `max_length` (e.g. `max_length=45`) or leave max_length to None to pad to the maximal input size of the model (e.g. 512 for Bert).\n",
            "  warnings.warn(\n",
            "Epoch 7/16 [Training]: 100%|██████████| 500/500 [06:11<00:00,  1.34it/s]\n"
          ]
        },
        {
          "name": "stdout",
          "output_type": "stream",
          "text": [
            "Epoch 7/16 - Average Training Loss: 0.0023\n"
          ]
        },
        {
          "name": "stderr",
          "output_type": "stream",
          "text": [
            "                                                                        \r"
          ]
        },
        {
          "name": "stdout",
          "output_type": "stream",
          "text": [
            "Epoch 7/16 - Accuracy: 0.9850\n",
            "Epoch 7/16 - Precision: 0.9701\n",
            "Epoch 7/16 - Recall: 1.0000\n"
          ]
        },
        {
          "name": "stderr",
          "output_type": "stream",
          "text": [
            "Epoch 8/16 [Training]:   0%|          | 0/500 [00:00<?, ?it/s]/home/george.ibrahim/anaconda3/envs/common/lib/python3.10/site-packages/transformers/tokenization_utils_base.py:2614: FutureWarning: The `pad_to_max_length` argument is deprecated and will be removed in a future version, use `padding=True` or `padding='longest'` to pad to the longest sequence in the batch, or use `padding='max_length'` to pad to a max length. In this case, you can give a specific length with `max_length` (e.g. `max_length=45`) or leave max_length to None to pad to the maximal input size of the model (e.g. 512 for Bert).\n",
            "  warnings.warn(\n",
            "Epoch 8/16 [Training]: 100%|██████████| 500/500 [06:11<00:00,  1.34it/s]\n"
          ]
        },
        {
          "name": "stdout",
          "output_type": "stream",
          "text": [
            "Epoch 8/16 - Average Training Loss: 0.0084\n"
          ]
        },
        {
          "name": "stderr",
          "output_type": "stream",
          "text": [
            "                                                                        \r"
          ]
        },
        {
          "name": "stdout",
          "output_type": "stream",
          "text": [
            "Epoch 8/16 - Accuracy: 0.9990\n",
            "Epoch 8/16 - Precision: 0.9980\n",
            "Epoch 8/16 - Recall: 1.0000\n"
          ]
        },
        {
          "name": "stderr",
          "output_type": "stream",
          "text": [
            "Epoch 9/16 [Training]:   0%|          | 0/500 [00:00<?, ?it/s]/home/george.ibrahim/anaconda3/envs/common/lib/python3.10/site-packages/transformers/tokenization_utils_base.py:2614: FutureWarning: The `pad_to_max_length` argument is deprecated and will be removed in a future version, use `padding=True` or `padding='longest'` to pad to the longest sequence in the batch, or use `padding='max_length'` to pad to a max length. In this case, you can give a specific length with `max_length` (e.g. `max_length=45`) or leave max_length to None to pad to the maximal input size of the model (e.g. 512 for Bert).\n",
            "  warnings.warn(\n",
            "Epoch 9/16 [Training]: 100%|██████████| 500/500 [06:12<00:00,  1.34it/s]\n"
          ]
        },
        {
          "name": "stdout",
          "output_type": "stream",
          "text": [
            "Epoch 9/16 - Average Training Loss: 0.0001\n"
          ]
        },
        {
          "name": "stderr",
          "output_type": "stream",
          "text": [
            "                                                                        \r"
          ]
        },
        {
          "name": "stdout",
          "output_type": "stream",
          "text": [
            "Epoch 9/16 - Accuracy: 0.9980\n",
            "Epoch 9/16 - Precision: 0.9959\n",
            "Epoch 9/16 - Recall: 1.0000\n"
          ]
        },
        {
          "name": "stderr",
          "output_type": "stream",
          "text": [
            "Epoch 10/16 [Training]:   0%|          | 0/500 [00:00<?, ?it/s]/home/george.ibrahim/anaconda3/envs/common/lib/python3.10/site-packages/transformers/tokenization_utils_base.py:2614: FutureWarning: The `pad_to_max_length` argument is deprecated and will be removed in a future version, use `padding=True` or `padding='longest'` to pad to the longest sequence in the batch, or use `padding='max_length'` to pad to a max length. In this case, you can give a specific length with `max_length` (e.g. `max_length=45`) or leave max_length to None to pad to the maximal input size of the model (e.g. 512 for Bert).\n",
            "  warnings.warn(\n",
            "Epoch 10/16 [Training]: 100%|██████████| 500/500 [06:13<00:00,  1.34it/s]\n"
          ]
        },
        {
          "name": "stdout",
          "output_type": "stream",
          "text": [
            "Epoch 10/16 - Average Training Loss: 0.0087\n"
          ]
        },
        {
          "name": "stderr",
          "output_type": "stream",
          "text": [
            "                                                                         \r"
          ]
        },
        {
          "name": "stdout",
          "output_type": "stream",
          "text": [
            "Epoch 10/16 - Accuracy: 0.9990\n",
            "Epoch 10/16 - Precision: 0.9980\n",
            "Epoch 10/16 - Recall: 1.0000\n"
          ]
        },
        {
          "name": "stderr",
          "output_type": "stream",
          "text": [
            "Epoch 11/16 [Training]:   0%|          | 0/500 [00:00<?, ?it/s]/home/george.ibrahim/anaconda3/envs/common/lib/python3.10/site-packages/transformers/tokenization_utils_base.py:2614: FutureWarning: The `pad_to_max_length` argument is deprecated and will be removed in a future version, use `padding=True` or `padding='longest'` to pad to the longest sequence in the batch, or use `padding='max_length'` to pad to a max length. In this case, you can give a specific length with `max_length` (e.g. `max_length=45`) or leave max_length to None to pad to the maximal input size of the model (e.g. 512 for Bert).\n",
            "  warnings.warn(\n",
            "Epoch 11/16 [Training]: 100%|██████████| 500/500 [06:11<00:00,  1.34it/s]\n"
          ]
        },
        {
          "name": "stdout",
          "output_type": "stream",
          "text": [
            "Epoch 11/16 - Average Training Loss: 0.0007\n"
          ]
        },
        {
          "name": "stderr",
          "output_type": "stream",
          "text": [
            "                                                                         \r"
          ]
        },
        {
          "name": "stdout",
          "output_type": "stream",
          "text": [
            "Epoch 11/16 - Accuracy: 0.9990\n",
            "Epoch 11/16 - Precision: 0.9980\n",
            "Epoch 11/16 - Recall: 1.0000\n"
          ]
        },
        {
          "name": "stderr",
          "output_type": "stream",
          "text": [
            "Epoch 12/16 [Training]:   0%|          | 0/500 [00:00<?, ?it/s]/home/george.ibrahim/anaconda3/envs/common/lib/python3.10/site-packages/transformers/tokenization_utils_base.py:2614: FutureWarning: The `pad_to_max_length` argument is deprecated and will be removed in a future version, use `padding=True` or `padding='longest'` to pad to the longest sequence in the batch, or use `padding='max_length'` to pad to a max length. In this case, you can give a specific length with `max_length` (e.g. `max_length=45`) or leave max_length to None to pad to the maximal input size of the model (e.g. 512 for Bert).\n",
            "  warnings.warn(\n",
            "Epoch 12/16 [Training]: 100%|██████████| 500/500 [06:11<00:00,  1.35it/s]\n"
          ]
        },
        {
          "name": "stdout",
          "output_type": "stream",
          "text": [
            "Epoch 12/16 - Average Training Loss: 0.0085\n"
          ]
        },
        {
          "name": "stderr",
          "output_type": "stream",
          "text": [
            "                                                                         \r"
          ]
        },
        {
          "name": "stdout",
          "output_type": "stream",
          "text": [
            "Epoch 12/16 - Accuracy: 0.9990\n",
            "Epoch 12/16 - Precision: 0.9980\n",
            "Epoch 12/16 - Recall: 1.0000\n"
          ]
        },
        {
          "name": "stderr",
          "output_type": "stream",
          "text": [
            "Epoch 13/16 [Training]:   0%|          | 0/500 [00:00<?, ?it/s]/home/george.ibrahim/anaconda3/envs/common/lib/python3.10/site-packages/transformers/tokenization_utils_base.py:2614: FutureWarning: The `pad_to_max_length` argument is deprecated and will be removed in a future version, use `padding=True` or `padding='longest'` to pad to the longest sequence in the batch, or use `padding='max_length'` to pad to a max length. In this case, you can give a specific length with `max_length` (e.g. `max_length=45`) or leave max_length to None to pad to the maximal input size of the model (e.g. 512 for Bert).\n",
            "  warnings.warn(\n",
            "Epoch 13/16 [Training]: 100%|██████████| 500/500 [06:11<00:00,  1.34it/s]\n"
          ]
        },
        {
          "name": "stdout",
          "output_type": "stream",
          "text": [
            "Epoch 13/16 - Average Training Loss: 0.0021\n"
          ]
        },
        {
          "name": "stderr",
          "output_type": "stream",
          "text": [
            "                                                                         \r"
          ]
        },
        {
          "name": "stdout",
          "output_type": "stream",
          "text": [
            "Epoch 13/16 - Accuracy: 0.9910\n",
            "Epoch 13/16 - Precision: 0.9979\n",
            "Epoch 13/16 - Recall: 0.9836\n"
          ]
        },
        {
          "name": "stderr",
          "output_type": "stream",
          "text": [
            "Epoch 14/16 [Training]:   0%|          | 0/500 [00:00<?, ?it/s]/home/george.ibrahim/anaconda3/envs/common/lib/python3.10/site-packages/transformers/tokenization_utils_base.py:2614: FutureWarning: The `pad_to_max_length` argument is deprecated and will be removed in a future version, use `padding=True` or `padding='longest'` to pad to the longest sequence in the batch, or use `padding='max_length'` to pad to a max length. In this case, you can give a specific length with `max_length` (e.g. `max_length=45`) or leave max_length to None to pad to the maximal input size of the model (e.g. 512 for Bert).\n",
            "  warnings.warn(\n",
            "Epoch 14/16 [Training]: 100%|██████████| 500/500 [06:11<00:00,  1.35it/s]\n"
          ]
        },
        {
          "name": "stdout",
          "output_type": "stream",
          "text": [
            "Epoch 14/16 - Average Training Loss: 0.0143\n"
          ]
        },
        {
          "name": "stderr",
          "output_type": "stream",
          "text": [
            "                                                                         \r"
          ]
        },
        {
          "name": "stdout",
          "output_type": "stream",
          "text": [
            "Epoch 14/16 - Accuracy: 0.9970\n",
            "Epoch 14/16 - Precision: 0.9959\n",
            "Epoch 14/16 - Recall: 0.9979\n"
          ]
        },
        {
          "name": "stderr",
          "output_type": "stream",
          "text": [
            "Epoch 15/16 [Training]:   0%|          | 0/500 [00:00<?, ?it/s]/home/george.ibrahim/anaconda3/envs/common/lib/python3.10/site-packages/transformers/tokenization_utils_base.py:2614: FutureWarning: The `pad_to_max_length` argument is deprecated and will be removed in a future version, use `padding=True` or `padding='longest'` to pad to the longest sequence in the batch, or use `padding='max_length'` to pad to a max length. In this case, you can give a specific length with `max_length` (e.g. `max_length=45`) or leave max_length to None to pad to the maximal input size of the model (e.g. 512 for Bert).\n",
            "  warnings.warn(\n",
            "Epoch 15/16 [Training]: 100%|██████████| 500/500 [06:11<00:00,  1.34it/s]\n"
          ]
        },
        {
          "name": "stdout",
          "output_type": "stream",
          "text": [
            "Epoch 15/16 - Average Training Loss: 0.0060\n"
          ]
        },
        {
          "name": "stderr",
          "output_type": "stream",
          "text": [
            "                                                                         \r"
          ]
        },
        {
          "name": "stdout",
          "output_type": "stream",
          "text": [
            "Epoch 15/16 - Accuracy: 0.9980\n",
            "Epoch 15/16 - Precision: 0.9959\n",
            "Epoch 15/16 - Recall: 1.0000\n"
          ]
        },
        {
          "name": "stderr",
          "output_type": "stream",
          "text": [
            "Epoch 16/16 [Training]:   0%|          | 0/500 [00:00<?, ?it/s]/home/george.ibrahim/anaconda3/envs/common/lib/python3.10/site-packages/transformers/tokenization_utils_base.py:2614: FutureWarning: The `pad_to_max_length` argument is deprecated and will be removed in a future version, use `padding=True` or `padding='longest'` to pad to the longest sequence in the batch, or use `padding='max_length'` to pad to a max length. In this case, you can give a specific length with `max_length` (e.g. `max_length=45`) or leave max_length to None to pad to the maximal input size of the model (e.g. 512 for Bert).\n",
            "  warnings.warn(\n",
            "Epoch 16/16 [Training]: 100%|██████████| 500/500 [04:57<00:00,  1.68it/s]\n"
          ]
        },
        {
          "name": "stdout",
          "output_type": "stream",
          "text": [
            "Epoch 16/16 - Average Training Loss: 0.0036\n"
          ]
        },
        {
          "name": "stderr",
          "output_type": "stream",
          "text": [
            "                                                                         "
          ]
        },
        {
          "name": "stdout",
          "output_type": "stream",
          "text": [
            "Epoch 16/16 - Accuracy: 0.9990\n",
            "Epoch 16/16 - Precision: 1.0000\n",
            "Epoch 16/16 - Recall: 0.9979\n"
          ]
        },
        {
          "name": "stderr",
          "output_type": "stream",
          "text": [
            "\r"
          ]
        }
      ],
      "source": [
        "from tqdm import tqdm\n",
        "from sklearn.metrics import accuracy_score, precision_score, recall_score\n",
        "\n",
        "device = torch.device(\"cuda\" if torch.cuda.is_available() else \"cpu\")\n",
        "model = model.to(device)\n",
        "\n",
        "optimizer = AdamW(model.parameters(), lr=2e-5)\n",
        "epochs = 16\n",
        "\n",
        "for epoch in range(epochs):\n",
        "    # Training\n",
        "    model.train()\n",
        "    total_loss = 0  # Initialize total loss for the epoch\n",
        "    train_loop = tqdm(train_data_loader, desc=f\"Epoch {epoch+1}/{epochs} [Training]\")\n",
        "\n",
        "    for batch in train_loop:\n",
        "        input_ids = batch['input_ids'].to(device)\n",
        "        attention_mask = batch['attention_mask'].to(device)\n",
        "        labels = batch['labels'].to(device)\n",
        "        optimizer.zero_grad()\n",
        "        outputs = model(input_ids, attention_mask=attention_mask, labels=labels)\n",
        "        loss = outputs.loss\n",
        "        total_loss += loss.item()  # Accumulate the loss\n",
        "        loss.backward()\n",
        "        optimizer.step()\n",
        "\n",
        "    avg_train_loss = total_loss / len(train_data_loader)  # Calculate average loss\n",
        "    print(f\"Epoch {epoch+1}/{epochs} - Average Training Loss: {avg_train_loss:.4f}\")\n",
        "\n",
        "    # Validation\n",
        "    model.eval()\n",
        "    total_eval_loss = 0\n",
        "\n",
        "    # Initialize lists to store predictions and true labels\n",
        "    all_predictions = []\n",
        "    all_true_labels = []\n",
        "\n",
        "    val_loop = tqdm(val_data_loader, desc=f\"Epoch {epoch+1}/{epochs} [Validation]\", leave=False)\n",
        "    for batch in val_loop:\n",
        "        input_ids = batch['input_ids'].to(device)\n",
        "        attention_mask = batch['attention_mask'].to(device)\n",
        "        labels = batch['labels'].to(device)\n",
        "\n",
        "        with torch.no_grad():\n",
        "            outputs = model(input_ids, attention_mask=attention_mask, labels=labels)\n",
        "\n",
        "        loss = outputs.loss\n",
        "        total_eval_loss += loss.item()\n",
        "\n",
        "        logits = outputs.logits\n",
        "        # Convert logits to probabilities and then to predicted labels\n",
        "        predictions = torch.argmax(logits, dim=-1)\n",
        "        all_predictions.extend(predictions.detach().cpu().numpy())\n",
        "        all_true_labels.extend(labels.detach().cpu().numpy())\n",
        "\n",
        "    # Calculate metrics\n",
        "    accuracy = accuracy_score(all_true_labels, all_predictions)\n",
        "    precision = precision_score(all_true_labels, all_predictions)  # use average='binary' for binary classification\n",
        "    recall = recall_score(all_true_labels, all_predictions)  # use average='binary' for binary classification\n",
        "\n",
        "    # Print metrics\n",
        "    print(f\"Epoch {epoch+1}/{epochs} - Accuracy: {accuracy:.4f}\")\n",
        "    print(f\"Epoch {epoch+1}/{epochs} - Precision: {precision:.4f}\")\n",
        "    print(f\"Epoch {epoch+1}/{epochs} - Recall: {recall:.4f}\")\n",
        "\n"
      ]
    },
    {
      "cell_type": "code",
      "execution_count": 18,
      "metadata": {
        "id": "lmNCK1_KT5_6"
      },
      "outputs": [
        {
          "data": {
            "text/plain": [
              "('/home/george.ibrahim/Downloads/AI701/Project/RoBERTa_Fever_7(Balanced)/tokenizer_config.json',\n",
              " '/home/george.ibrahim/Downloads/AI701/Project/RoBERTa_Fever_7(Balanced)/special_tokens_map.json',\n",
              " '/home/george.ibrahim/Downloads/AI701/Project/RoBERTa_Fever_7(Balanced)/vocab.json',\n",
              " '/home/george.ibrahim/Downloads/AI701/Project/RoBERTa_Fever_7(Balanced)/merges.txt',\n",
              " '/home/george.ibrahim/Downloads/AI701/Project/RoBERTa_Fever_7(Balanced)/added_tokens.json')"
            ]
          },
          "execution_count": 18,
          "metadata": {},
          "output_type": "execute_result"
        }
      ],
      "source": [
        "model_path = \"/home/george.ibrahim/Downloads/AI701/Project/RoBERTa_Fever_7(Balanced)\"\n",
        "\n",
        "model.save_pretrained(model_path)\n",
        "tokenizer.save_pretrained(model_path)\n"
      ]
    },
    {
      "cell_type": "code",
      "execution_count": 19,
      "metadata": {
        "id": "uzC_ERtXUYFt"
      },
      "outputs": [],
      "source": [
        "from transformers import RobertaTokenizer, RobertaForSequenceClassification\n",
        "\n",
        "# Path to your saved model\n",
        "model_path = \"/home/george.ibrahim/Downloads/AI701/Project/RoBERTa_Fever_7(Balanced)\"\n",
        "\n",
        "# Load the tokenizer and model\n",
        "tokenizer = RobertaTokenizer.from_pretrained(model_path)\n",
        "model = RobertaForSequenceClassification.from_pretrained(model_path)\n"
      ]
    },
    {
      "cell_type": "code",
      "execution_count": 20,
      "metadata": {
        "id": "3rPnLNySUih-"
      },
      "outputs": [
        {
          "name": "stderr",
          "output_type": "stream",
          "text": [
            "/home/george.ibrahim/anaconda3/envs/common/lib/python3.10/site-packages/transformers/tokenization_utils_base.py:2614: FutureWarning: The `pad_to_max_length` argument is deprecated and will be removed in a future version, use `padding=True` or `padding='longest'` to pad to the longest sequence in the batch, or use `padding='max_length'` to pad to a max length. In this case, you can give a specific length with `max_length` (e.g. `max_length=45`) or leave max_length to None to pad to the maximal input size of the model (e.g. 512 for Bert).\n",
            "  warnings.warn(\n"
          ]
        },
        {
          "name": "stdout",
          "output_type": "stream",
          "text": [
            "Test Accuracy: 1.00\n",
            "Test Precision: 1.00\n",
            "Test Recall: 1.00\n",
            "Test f1_score: 1.00\n"
          ]
        }
      ],
      "source": [
        "import torch\n",
        "from sklearn.metrics import accuracy_score, precision_score, recall_score, f1_score\n",
        "\n",
        "device = torch.device(\"cuda\" if torch.cuda.is_available() else \"cpu\")\n",
        "model = model.to(device)\n",
        "\n",
        "import numpy as np\n",
        "\n",
        "# Initialize lists to store all predictions and labels\n",
        "all_predictions = []\n",
        "all_true_labels = []\n",
        "\n",
        "# Evaluation\n",
        "model.eval()\n",
        "\n",
        "for batch in test_data_loader:\n",
        "    input_ids = batch['input_ids'].to(device)\n",
        "    attention_mask = batch['attention_mask'].to(device)\n",
        "    labels = batch['labels'].to(device)\n",
        "\n",
        "    with torch.no_grad():\n",
        "        outputs = model(input_ids, attention_mask=attention_mask, labels=labels)\n",
        "\n",
        "    logits = outputs.logits\n",
        "    logits = logits.detach().cpu().numpy()\n",
        "    label_ids = labels.to('cpu').numpy()\n",
        "\n",
        "    # Flatten the outputs and labels and store them\n",
        "    all_predictions.extend(np.argmax(logits, axis=1).flatten())\n",
        "    all_true_labels.extend(label_ids.flatten())\n",
        "\n",
        "# Compute metrics\n",
        "accuracy = accuracy_score(all_true_labels, all_predictions)\n",
        "precision = precision_score(all_true_labels, all_predictions)\n",
        "recall = recall_score(all_true_labels, all_predictions)\n",
        "f1_score = f1_score(all_true_labels, all_predictions)\n",
        "\n",
        "# Print metrics\n",
        "print(\"Test Accuracy: {0:.2f}\".format(accuracy))\n",
        "print(\"Test Precision: {0:.2f}\".format(precision))\n",
        "print(\"Test Recall: {0:.2f}\".format(recall))\n",
        "print(\"Test f1_score: {0:.2f}\".format(f1_score))\n",
        "\n"
      ]
    }
  ],
  "metadata": {
    "accelerator": "GPU",
    "colab": {
      "gpuType": "T4",
      "provenance": []
    },
    "kernelspec": {
      "display_name": "Python 3",
      "name": "python3"
    },
    "language_info": {
      "codemirror_mode": {
        "name": "ipython",
        "version": 3
      },
      "file_extension": ".py",
      "mimetype": "text/x-python",
      "name": "python",
      "nbconvert_exporter": "python",
      "pygments_lexer": "ipython3",
      "version": "3.10.13"
    }
  },
  "nbformat": 4,
  "nbformat_minor": 0
}

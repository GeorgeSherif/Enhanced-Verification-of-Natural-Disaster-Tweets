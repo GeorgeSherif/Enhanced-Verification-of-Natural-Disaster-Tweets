{
  "cells": [
    {
      "cell_type": "code",
      "execution_count": 2,
      "metadata": {
        "id": "HYnB6g0noMVv"
      },
      "outputs": [],
      "source": [
        "from datasets import load_dataset\n",
        "import pandas as pd\n",
        "\n",
        "dataset = load_dataset(\"mwong/fever-evidence-related\")\n",
        "train_dataset = dataset['train']\n",
        "train_dataset\n",
        "train_df = pd.DataFrame(train_dataset)"
      ]
    },
    {
      "cell_type": "code",
      "execution_count": 3,
      "metadata": {
        "colab": {
          "base_uri": "https://localhost:8080/",
          "height": 206
        },
        "id": "ziZYVend6rrC",
        "outputId": "bebf9250-4c4d-4dca-d0c3-38a165053ce7"
      },
      "outputs": [
        {
          "data": {
            "text/html": [
              "<div>\n",
              "<style scoped>\n",
              "    .dataframe tbody tr th:only-of-type {\n",
              "        vertical-align: middle;\n",
              "    }\n",
              "\n",
              "    .dataframe tbody tr th {\n",
              "        vertical-align: top;\n",
              "    }\n",
              "\n",
              "    .dataframe thead th {\n",
              "        text-align: right;\n",
              "    }\n",
              "</style>\n",
              "<table border=\"1\" class=\"dataframe\">\n",
              "  <thead>\n",
              "    <tr style=\"text-align: right;\">\n",
              "      <th></th>\n",
              "      <th>Headline</th>\n",
              "      <th>articleBody</th>\n",
              "      <th>label</th>\n",
              "    </tr>\n",
              "  </thead>\n",
              "  <tbody>\n",
              "    <tr>\n",
              "      <th>0</th>\n",
              "      <td>Nikolaj Coster-Waldau worked with the Fox Broa...</td>\n",
              "      <td>Nikolaj Coster-Waldau -LRB- -LSB- neɡolaɪ kʰʌs...</td>\n",
              "      <td>1</td>\n",
              "    </tr>\n",
              "    <tr>\n",
              "      <th>1</th>\n",
              "      <td>Nikolaj Coster-Waldau worked with the Fox Broa...</td>\n",
              "      <td>Majboor -LRB- Hindi  : मजबर , English  : Compu...</td>\n",
              "      <td>0</td>\n",
              "    </tr>\n",
              "    <tr>\n",
              "      <th>2</th>\n",
              "      <td>Nikolaj Coster-Waldau worked with the Fox Broa...</td>\n",
              "      <td>The small snakehead ' -LRB- Channa asiatica -R...</td>\n",
              "      <td>0</td>\n",
              "    </tr>\n",
              "    <tr>\n",
              "      <th>3</th>\n",
              "      <td>Nikolaj Coster-Waldau worked with the Fox Broa...</td>\n",
              "      <td>The Fox Broadcasting Company -LRB- often short...</td>\n",
              "      <td>1</td>\n",
              "    </tr>\n",
              "    <tr>\n",
              "      <th>4</th>\n",
              "      <td>Nikolaj Coster-Waldau worked with the Fox Broa...</td>\n",
              "      <td>The Sjursøya train accident was a railway acci...</td>\n",
              "      <td>0</td>\n",
              "    </tr>\n",
              "  </tbody>\n",
              "</table>\n",
              "</div>"
            ],
            "text/plain": [
              "                                            Headline  \\\n",
              "0  Nikolaj Coster-Waldau worked with the Fox Broa...   \n",
              "1  Nikolaj Coster-Waldau worked with the Fox Broa...   \n",
              "2  Nikolaj Coster-Waldau worked with the Fox Broa...   \n",
              "3  Nikolaj Coster-Waldau worked with the Fox Broa...   \n",
              "4  Nikolaj Coster-Waldau worked with the Fox Broa...   \n",
              "\n",
              "                                         articleBody  label  \n",
              "0  Nikolaj Coster-Waldau -LRB- -LSB- neɡolaɪ kʰʌs...      1  \n",
              "1  Majboor -LRB- Hindi  : मजबर , English  : Compu...      0  \n",
              "2  The small snakehead ' -LRB- Channa asiatica -R...      0  \n",
              "3  The Fox Broadcasting Company -LRB- often short...      1  \n",
              "4  The Sjursøya train accident was a railway acci...      0  "
            ]
          },
          "execution_count": 3,
          "metadata": {},
          "output_type": "execute_result"
        }
      ],
      "source": [
        "df = pd.DataFrame(train_df)\n",
        "df = df.drop([\"input_ids\", \"attention_mask\"], axis = 1)\n",
        "df = df.rename(columns={'labels': 'label', 'claim': 'Headline', 'evidence': 'articleBody'})\n",
        "\n",
        "df.head()\n"
      ]
    },
    {
      "cell_type": "code",
      "execution_count": 4,
      "metadata": {
        "id": "4Xp1DOY4CPZR"
      },
      "outputs": [],
      "source": [
        "import torch\n",
        "from torch.utils.data import Dataset, DataLoader\n",
        "from transformers import RobertaTokenizer, RobertaForSequenceClassification, AdamW\n",
        "from sklearn.model_selection import train_test_split"
      ]
    },
    {
      "cell_type": "code",
      "execution_count": 5,
      "metadata": {
        "colab": {
          "base_uri": "https://localhost:8080/"
        },
        "id": "Mp5N62iFCjjY",
        "outputId": "ff6fa900-e9b4-4520-90c6-ffa13aa1fbca"
      },
      "outputs": [
        {
          "name": "stderr",
          "output_type": "stream",
          "text": [
            "Some weights of RobertaForSequenceClassification were not initialized from the model checkpoint at roberta-base and are newly initialized: ['classifier.out_proj.bias', 'classifier.dense.weight', 'classifier.out_proj.weight', 'classifier.dense.bias']\n",
            "You should probably TRAIN this model on a down-stream task to be able to use it for predictions and inference.\n"
          ]
        },
        {
          "data": {
            "text/plain": [
              "label\n",
              "0    7091\n",
              "1    2909\n",
              "Name: count, dtype: int64"
            ]
          },
          "execution_count": 5,
          "metadata": {},
          "output_type": "execute_result"
        }
      ],
      "source": [
        "tokenizer = RobertaTokenizer.from_pretrained('roberta-base')\n",
        "model = RobertaForSequenceClassification.from_pretrained('roberta-base', num_labels=2)\n",
        "df = df.head(10000)\n",
        "df['label'].value_counts()"
      ]
    },
    {
      "cell_type": "code",
      "execution_count": 6,
      "metadata": {
        "id": "D6c-J1eiChbB"
      },
      "outputs": [],
      "source": [
        "class StanceDataset(Dataset):\n",
        "    def __init__(self, headlines, bodies, labels, tokenizer, max_len):\n",
        "        self.headlines = headlines\n",
        "        self.bodies = bodies\n",
        "        self.labels = labels\n",
        "        self.tokenizer = tokenizer\n",
        "        self.max_len = max_len\n",
        "\n",
        "    def __len__(self):\n",
        "        return len(self.headlines)\n",
        "\n",
        "    def __getitem__(self, item):\n",
        "        headline = str(self.headlines[item])\n",
        "        body = str(self.bodies[item])\n",
        "        label = self.labels[item]\n",
        "\n",
        "        # Combine headline and body for tokenization\n",
        "        combined_text = headline + \" \" + body\n",
        "\n",
        "        encoding = self.tokenizer.encode_plus(\n",
        "            combined_text,\n",
        "            add_special_tokens=True,\n",
        "            max_length=self.max_len,\n",
        "            truncation=True,\n",
        "            return_token_type_ids=False,\n",
        "            pad_to_max_length=True,\n",
        "            return_attention_mask=True,\n",
        "            return_tensors='pt',\n",
        "        )\n",
        "        return {\n",
        "            'input_ids': encoding['input_ids'].flatten(),\n",
        "            'attention_mask': encoding['attention_mask'].flatten(),\n",
        "            'labels': torch.tensor(label, dtype=torch.long)\n",
        "        }\n"
      ]
    },
    {
      "cell_type": "code",
      "execution_count": 7,
      "metadata": {
        "colab": {
          "base_uri": "https://localhost:8080/"
        },
        "id": "L-1bsesiDDx8",
        "outputId": "92957c6b-7f56-4401-d730-ec2e4e8d46dc"
      },
      "outputs": [
        {
          "name": "stdout",
          "output_type": "stream",
          "text": [
            "(8000, 3)\n",
            "(1000, 3)\n",
            "(1000, 3)\n"
          ]
        }
      ],
      "source": [
        "# Split into train and validation sets\n",
        "train_df, temp_df = train_test_split(df, test_size=0.2)  # Adjust the test_size as needed\n",
        "val_df, test_df = train_test_split(temp_df, test_size=0.5)  # Split the temp_df equally into validation and test\n",
        "\n",
        "print(train_df.shape)\n",
        "print(val_df.shape)\n",
        "print(test_df.shape)\n",
        "\n",
        "# Create training dataset\n",
        "train_dataset = StanceDataset(\n",
        "    headlines = train_df.Headline.to_numpy(),\n",
        "    bodies = train_df.articleBody.to_numpy(),\n",
        "    labels = train_df.label.to_numpy(),\n",
        "    tokenizer = tokenizer,\n",
        "    max_len = 350\n",
        ")\n",
        "\n",
        "# Create validation dataset\n",
        "val_dataset = StanceDataset(\n",
        "    headlines = val_df.Headline.to_numpy(),\n",
        "    bodies = val_df.articleBody.to_numpy(),\n",
        "    labels = val_df.label.to_numpy(),\n",
        "    tokenizer = tokenizer,\n",
        "    max_len = 350\n",
        ")\n",
        "\n",
        "# Create test dataset\n",
        "test_dataset = StanceDataset(\n",
        "    headlines = test_df.Headline.to_numpy(),\n",
        "    bodies = test_df.articleBody.to_numpy(),\n",
        "    labels = test_df.label.to_numpy(),\n",
        "    tokenizer = tokenizer,\n",
        "    max_len = 350\n",
        ")\n"
      ]
    },
    {
      "cell_type": "code",
      "execution_count": 8,
      "metadata": {
        "id": "i9cWz9xeDTh2"
      },
      "outputs": [],
      "source": [
        "batch_size = 16\n",
        "\n",
        "train_data_loader = DataLoader(train_dataset, batch_size=batch_size, shuffle=True)\n",
        "val_data_loader = DataLoader(val_dataset, batch_size=batch_size)\n",
        "test_data_loader = DataLoader(test_dataset, batch_size=batch_size)"
      ]
    },
    {
      "cell_type": "code",
      "execution_count": 9,
      "metadata": {
        "colab": {
          "base_uri": "https://localhost:8080/"
        },
        "id": "c2Wf4-Q1DV-p",
        "outputId": "c92fc4ad-23d7-4abd-8d97-7d67d4b56747"
      },
      "outputs": [
        {
          "name": "stderr",
          "output_type": "stream",
          "text": [
            "/home/george.ibrahim/anaconda3/envs/common/lib/python3.10/site-packages/transformers/optimization.py:411: FutureWarning: This implementation of AdamW is deprecated and will be removed in a future version. Use the PyTorch implementation torch.optim.AdamW instead, or set `no_deprecation_warning=True` to disable this warning\n",
            "  warnings.warn(\n",
            "Epoch 1/16 [Training]:   0%|          | 0/500 [00:00<?, ?it/s]/home/george.ibrahim/anaconda3/envs/common/lib/python3.10/site-packages/transformers/tokenization_utils_base.py:2614: FutureWarning: The `pad_to_max_length` argument is deprecated and will be removed in a future version, use `padding=True` or `padding='longest'` to pad to the longest sequence in the batch, or use `padding='max_length'` to pad to a max length. In this case, you can give a specific length with `max_length` (e.g. `max_length=45`) or leave max_length to None to pad to the maximal input size of the model (e.g. 512 for Bert).\n",
            "  warnings.warn(\n",
            "Epoch 1/16 [Training]: 100%|██████████| 500/500 [05:49<00:00,  1.43it/s]\n"
          ]
        },
        {
          "name": "stdout",
          "output_type": "stream",
          "text": [
            "Epoch 1/16 - Average Training Loss: 0.1133\n"
          ]
        },
        {
          "name": "stderr",
          "output_type": "stream",
          "text": [
            "                                                                        \r"
          ]
        },
        {
          "name": "stdout",
          "output_type": "stream",
          "text": [
            "Epoch 1/16 - Accuracy: 0.9980\n",
            "Epoch 1/16 - Precision: 1.0000\n",
            "Epoch 1/16 - Recall: 0.9931\n"
          ]
        },
        {
          "name": "stderr",
          "output_type": "stream",
          "text": [
            "Epoch 2/16 [Training]:   0%|          | 0/500 [00:00<?, ?it/s]/home/george.ibrahim/anaconda3/envs/common/lib/python3.10/site-packages/transformers/tokenization_utils_base.py:2614: FutureWarning: The `pad_to_max_length` argument is deprecated and will be removed in a future version, use `padding=True` or `padding='longest'` to pad to the longest sequence in the batch, or use `padding='max_length'` to pad to a max length. In this case, you can give a specific length with `max_length` (e.g. `max_length=45`) or leave max_length to None to pad to the maximal input size of the model (e.g. 512 for Bert).\n",
            "  warnings.warn(\n",
            "Epoch 2/16 [Training]: 100%|██████████| 500/500 [06:10<00:00,  1.35it/s]\n"
          ]
        },
        {
          "name": "stdout",
          "output_type": "stream",
          "text": [
            "Epoch 2/16 - Average Training Loss: 0.0239\n"
          ]
        },
        {
          "name": "stderr",
          "output_type": "stream",
          "text": [
            "                                                                        \r"
          ]
        },
        {
          "name": "stdout",
          "output_type": "stream",
          "text": [
            "Epoch 2/16 - Accuracy: 0.9990\n",
            "Epoch 2/16 - Precision: 1.0000\n",
            "Epoch 2/16 - Recall: 0.9966\n"
          ]
        },
        {
          "name": "stderr",
          "output_type": "stream",
          "text": [
            "Epoch 3/16 [Training]:   0%|          | 0/500 [00:00<?, ?it/s]/home/george.ibrahim/anaconda3/envs/common/lib/python3.10/site-packages/transformers/tokenization_utils_base.py:2614: FutureWarning: The `pad_to_max_length` argument is deprecated and will be removed in a future version, use `padding=True` or `padding='longest'` to pad to the longest sequence in the batch, or use `padding='max_length'` to pad to a max length. In this case, you can give a specific length with `max_length` (e.g. `max_length=45`) or leave max_length to None to pad to the maximal input size of the model (e.g. 512 for Bert).\n",
            "  warnings.warn(\n",
            "Epoch 3/16 [Training]: 100%|██████████| 500/500 [06:10<00:00,  1.35it/s]\n"
          ]
        },
        {
          "name": "stdout",
          "output_type": "stream",
          "text": [
            "Epoch 3/16 - Average Training Loss: 0.0193\n"
          ]
        },
        {
          "name": "stderr",
          "output_type": "stream",
          "text": [
            "                                                                        \r"
          ]
        },
        {
          "name": "stdout",
          "output_type": "stream",
          "text": [
            "Epoch 3/16 - Accuracy: 0.9970\n",
            "Epoch 3/16 - Precision: 0.9966\n",
            "Epoch 3/16 - Recall: 0.9931\n"
          ]
        },
        {
          "name": "stderr",
          "output_type": "stream",
          "text": [
            "Epoch 4/16 [Training]:   0%|          | 0/500 [00:00<?, ?it/s]/home/george.ibrahim/anaconda3/envs/common/lib/python3.10/site-packages/transformers/tokenization_utils_base.py:2614: FutureWarning: The `pad_to_max_length` argument is deprecated and will be removed in a future version, use `padding=True` or `padding='longest'` to pad to the longest sequence in the batch, or use `padding='max_length'` to pad to a max length. In this case, you can give a specific length with `max_length` (e.g. `max_length=45`) or leave max_length to None to pad to the maximal input size of the model (e.g. 512 for Bert).\n",
            "  warnings.warn(\n",
            "Epoch 4/16 [Training]: 100%|██████████| 500/500 [06:09<00:00,  1.35it/s]\n"
          ]
        },
        {
          "name": "stdout",
          "output_type": "stream",
          "text": [
            "Epoch 4/16 - Average Training Loss: 0.0066\n"
          ]
        },
        {
          "name": "stderr",
          "output_type": "stream",
          "text": [
            "                                                                        \r"
          ]
        },
        {
          "name": "stdout",
          "output_type": "stream",
          "text": [
            "Epoch 4/16 - Accuracy: 0.9950\n",
            "Epoch 4/16 - Precision: 1.0000\n",
            "Epoch 4/16 - Recall: 0.9828\n"
          ]
        },
        {
          "name": "stderr",
          "output_type": "stream",
          "text": [
            "Epoch 5/16 [Training]:   0%|          | 0/500 [00:00<?, ?it/s]/home/george.ibrahim/anaconda3/envs/common/lib/python3.10/site-packages/transformers/tokenization_utils_base.py:2614: FutureWarning: The `pad_to_max_length` argument is deprecated and will be removed in a future version, use `padding=True` or `padding='longest'` to pad to the longest sequence in the batch, or use `padding='max_length'` to pad to a max length. In this case, you can give a specific length with `max_length` (e.g. `max_length=45`) or leave max_length to None to pad to the maximal input size of the model (e.g. 512 for Bert).\n",
            "  warnings.warn(\n",
            "Epoch 5/16 [Training]: 100%|██████████| 500/500 [06:10<00:00,  1.35it/s]\n"
          ]
        },
        {
          "name": "stdout",
          "output_type": "stream",
          "text": [
            "Epoch 5/16 - Average Training Loss: 0.0147\n"
          ]
        },
        {
          "name": "stderr",
          "output_type": "stream",
          "text": [
            "                                                                        \r"
          ]
        },
        {
          "name": "stdout",
          "output_type": "stream",
          "text": [
            "Epoch 5/16 - Accuracy: 0.9930\n",
            "Epoch 5/16 - Precision: 0.9965\n",
            "Epoch 5/16 - Recall: 0.9794\n"
          ]
        },
        {
          "name": "stderr",
          "output_type": "stream",
          "text": [
            "Epoch 6/16 [Training]:   0%|          | 0/500 [00:00<?, ?it/s]/home/george.ibrahim/anaconda3/envs/common/lib/python3.10/site-packages/transformers/tokenization_utils_base.py:2614: FutureWarning: The `pad_to_max_length` argument is deprecated and will be removed in a future version, use `padding=True` or `padding='longest'` to pad to the longest sequence in the batch, or use `padding='max_length'` to pad to a max length. In this case, you can give a specific length with `max_length` (e.g. `max_length=45`) or leave max_length to None to pad to the maximal input size of the model (e.g. 512 for Bert).\n",
            "  warnings.warn(\n",
            "Epoch 6/16 [Training]: 100%|██████████| 500/500 [06:10<00:00,  1.35it/s]\n"
          ]
        },
        {
          "name": "stdout",
          "output_type": "stream",
          "text": [
            "Epoch 6/16 - Average Training Loss: 0.0041\n"
          ]
        },
        {
          "name": "stderr",
          "output_type": "stream",
          "text": [
            "                                                                        \r"
          ]
        },
        {
          "name": "stdout",
          "output_type": "stream",
          "text": [
            "Epoch 6/16 - Accuracy: 0.9970\n",
            "Epoch 6/16 - Precision: 0.9932\n",
            "Epoch 6/16 - Recall: 0.9966\n"
          ]
        },
        {
          "name": "stderr",
          "output_type": "stream",
          "text": [
            "Epoch 7/16 [Training]:   0%|          | 0/500 [00:00<?, ?it/s]/home/george.ibrahim/anaconda3/envs/common/lib/python3.10/site-packages/transformers/tokenization_utils_base.py:2614: FutureWarning: The `pad_to_max_length` argument is deprecated and will be removed in a future version, use `padding=True` or `padding='longest'` to pad to the longest sequence in the batch, or use `padding='max_length'` to pad to a max length. In this case, you can give a specific length with `max_length` (e.g. `max_length=45`) or leave max_length to None to pad to the maximal input size of the model (e.g. 512 for Bert).\n",
            "  warnings.warn(\n",
            "Epoch 7/16 [Training]: 100%|██████████| 500/500 [06:10<00:00,  1.35it/s]\n"
          ]
        },
        {
          "name": "stdout",
          "output_type": "stream",
          "text": [
            "Epoch 7/16 - Average Training Loss: 0.0011\n"
          ]
        },
        {
          "name": "stderr",
          "output_type": "stream",
          "text": [
            "                                                                        \r"
          ]
        },
        {
          "name": "stdout",
          "output_type": "stream",
          "text": [
            "Epoch 7/16 - Accuracy: 0.9960\n",
            "Epoch 7/16 - Precision: 0.9898\n",
            "Epoch 7/16 - Recall: 0.9966\n"
          ]
        },
        {
          "name": "stderr",
          "output_type": "stream",
          "text": [
            "Epoch 8/16 [Training]:   0%|          | 0/500 [00:00<?, ?it/s]/home/george.ibrahim/anaconda3/envs/common/lib/python3.10/site-packages/transformers/tokenization_utils_base.py:2614: FutureWarning: The `pad_to_max_length` argument is deprecated and will be removed in a future version, use `padding=True` or `padding='longest'` to pad to the longest sequence in the batch, or use `padding='max_length'` to pad to a max length. In this case, you can give a specific length with `max_length` (e.g. `max_length=45`) or leave max_length to None to pad to the maximal input size of the model (e.g. 512 for Bert).\n",
            "  warnings.warn(\n",
            "Epoch 8/16 [Training]: 100%|██████████| 500/500 [06:10<00:00,  1.35it/s]\n"
          ]
        },
        {
          "name": "stdout",
          "output_type": "stream",
          "text": [
            "Epoch 8/16 - Average Training Loss: 0.0039\n"
          ]
        },
        {
          "name": "stderr",
          "output_type": "stream",
          "text": [
            "                                                                        \r"
          ]
        },
        {
          "name": "stdout",
          "output_type": "stream",
          "text": [
            "Epoch 8/16 - Accuracy: 0.9960\n",
            "Epoch 8/16 - Precision: 0.9965\n",
            "Epoch 8/16 - Recall: 0.9897\n"
          ]
        },
        {
          "name": "stderr",
          "output_type": "stream",
          "text": [
            "Epoch 9/16 [Training]:   0%|          | 0/500 [00:00<?, ?it/s]/home/george.ibrahim/anaconda3/envs/common/lib/python3.10/site-packages/transformers/tokenization_utils_base.py:2614: FutureWarning: The `pad_to_max_length` argument is deprecated and will be removed in a future version, use `padding=True` or `padding='longest'` to pad to the longest sequence in the batch, or use `padding='max_length'` to pad to a max length. In this case, you can give a specific length with `max_length` (e.g. `max_length=45`) or leave max_length to None to pad to the maximal input size of the model (e.g. 512 for Bert).\n",
            "  warnings.warn(\n",
            "Epoch 9/16 [Training]: 100%|██████████| 500/500 [06:10<00:00,  1.35it/s]\n"
          ]
        },
        {
          "name": "stdout",
          "output_type": "stream",
          "text": [
            "Epoch 9/16 - Average Training Loss: 0.0142\n"
          ]
        },
        {
          "name": "stderr",
          "output_type": "stream",
          "text": [
            "                                                                        \r"
          ]
        },
        {
          "name": "stdout",
          "output_type": "stream",
          "text": [
            "Epoch 9/16 - Accuracy: 0.9980\n",
            "Epoch 9/16 - Precision: 1.0000\n",
            "Epoch 9/16 - Recall: 0.9931\n"
          ]
        },
        {
          "name": "stderr",
          "output_type": "stream",
          "text": [
            "Epoch 10/16 [Training]:   0%|          | 0/500 [00:00<?, ?it/s]/home/george.ibrahim/anaconda3/envs/common/lib/python3.10/site-packages/transformers/tokenization_utils_base.py:2614: FutureWarning: The `pad_to_max_length` argument is deprecated and will be removed in a future version, use `padding=True` or `padding='longest'` to pad to the longest sequence in the batch, or use `padding='max_length'` to pad to a max length. In this case, you can give a specific length with `max_length` (e.g. `max_length=45`) or leave max_length to None to pad to the maximal input size of the model (e.g. 512 for Bert).\n",
            "  warnings.warn(\n",
            "Epoch 10/16 [Training]: 100%|██████████| 500/500 [06:08<00:00,  1.36it/s]\n"
          ]
        },
        {
          "name": "stdout",
          "output_type": "stream",
          "text": [
            "Epoch 10/16 - Average Training Loss: 0.0064\n"
          ]
        },
        {
          "name": "stderr",
          "output_type": "stream",
          "text": [
            "                                                                         \r"
          ]
        },
        {
          "name": "stdout",
          "output_type": "stream",
          "text": [
            "Epoch 10/16 - Accuracy: 0.9950\n",
            "Epoch 10/16 - Precision: 0.9931\n",
            "Epoch 10/16 - Recall: 0.9897\n"
          ]
        },
        {
          "name": "stderr",
          "output_type": "stream",
          "text": [
            "Epoch 11/16 [Training]:   0%|          | 0/500 [00:00<?, ?it/s]/home/george.ibrahim/anaconda3/envs/common/lib/python3.10/site-packages/transformers/tokenization_utils_base.py:2614: FutureWarning: The `pad_to_max_length` argument is deprecated and will be removed in a future version, use `padding=True` or `padding='longest'` to pad to the longest sequence in the batch, or use `padding='max_length'` to pad to a max length. In this case, you can give a specific length with `max_length` (e.g. `max_length=45`) or leave max_length to None to pad to the maximal input size of the model (e.g. 512 for Bert).\n",
            "  warnings.warn(\n",
            "Epoch 11/16 [Training]: 100%|██████████| 500/500 [06:10<00:00,  1.35it/s]\n"
          ]
        },
        {
          "name": "stdout",
          "output_type": "stream",
          "text": [
            "Epoch 11/16 - Average Training Loss: 0.0072\n"
          ]
        },
        {
          "name": "stderr",
          "output_type": "stream",
          "text": [
            "                                                                         \r"
          ]
        },
        {
          "name": "stdout",
          "output_type": "stream",
          "text": [
            "Epoch 11/16 - Accuracy: 0.9960\n",
            "Epoch 11/16 - Precision: 0.9898\n",
            "Epoch 11/16 - Recall: 0.9966\n"
          ]
        },
        {
          "name": "stderr",
          "output_type": "stream",
          "text": [
            "Epoch 12/16 [Training]:   0%|          | 0/500 [00:00<?, ?it/s]/home/george.ibrahim/anaconda3/envs/common/lib/python3.10/site-packages/transformers/tokenization_utils_base.py:2614: FutureWarning: The `pad_to_max_length` argument is deprecated and will be removed in a future version, use `padding=True` or `padding='longest'` to pad to the longest sequence in the batch, or use `padding='max_length'` to pad to a max length. In this case, you can give a specific length with `max_length` (e.g. `max_length=45`) or leave max_length to None to pad to the maximal input size of the model (e.g. 512 for Bert).\n",
            "  warnings.warn(\n",
            "Epoch 12/16 [Training]: 100%|██████████| 500/500 [06:10<00:00,  1.35it/s]\n"
          ]
        },
        {
          "name": "stdout",
          "output_type": "stream",
          "text": [
            "Epoch 12/16 - Average Training Loss: 0.0037\n"
          ]
        },
        {
          "name": "stderr",
          "output_type": "stream",
          "text": [
            "                                                                         \r"
          ]
        },
        {
          "name": "stdout",
          "output_type": "stream",
          "text": [
            "Epoch 12/16 - Accuracy: 0.9950\n",
            "Epoch 12/16 - Precision: 0.9864\n",
            "Epoch 12/16 - Recall: 0.9966\n"
          ]
        },
        {
          "name": "stderr",
          "output_type": "stream",
          "text": [
            "Epoch 13/16 [Training]:   0%|          | 0/500 [00:00<?, ?it/s]/home/george.ibrahim/anaconda3/envs/common/lib/python3.10/site-packages/transformers/tokenization_utils_base.py:2614: FutureWarning: The `pad_to_max_length` argument is deprecated and will be removed in a future version, use `padding=True` or `padding='longest'` to pad to the longest sequence in the batch, or use `padding='max_length'` to pad to a max length. In this case, you can give a specific length with `max_length` (e.g. `max_length=45`) or leave max_length to None to pad to the maximal input size of the model (e.g. 512 for Bert).\n",
            "  warnings.warn(\n",
            "Epoch 13/16 [Training]: 100%|██████████| 500/500 [06:09<00:00,  1.35it/s]\n"
          ]
        },
        {
          "name": "stdout",
          "output_type": "stream",
          "text": [
            "Epoch 13/16 - Average Training Loss: 0.0063\n"
          ]
        },
        {
          "name": "stderr",
          "output_type": "stream",
          "text": [
            "                                                                         \r"
          ]
        },
        {
          "name": "stdout",
          "output_type": "stream",
          "text": [
            "Epoch 13/16 - Accuracy: 0.9980\n",
            "Epoch 13/16 - Precision: 0.9966\n",
            "Epoch 13/16 - Recall: 0.9966\n"
          ]
        },
        {
          "name": "stderr",
          "output_type": "stream",
          "text": [
            "Epoch 14/16 [Training]:   0%|          | 0/500 [00:00<?, ?it/s]/home/george.ibrahim/anaconda3/envs/common/lib/python3.10/site-packages/transformers/tokenization_utils_base.py:2614: FutureWarning: The `pad_to_max_length` argument is deprecated and will be removed in a future version, use `padding=True` or `padding='longest'` to pad to the longest sequence in the batch, or use `padding='max_length'` to pad to a max length. In this case, you can give a specific length with `max_length` (e.g. `max_length=45`) or leave max_length to None to pad to the maximal input size of the model (e.g. 512 for Bert).\n",
            "  warnings.warn(\n",
            "Epoch 14/16 [Training]: 100%|██████████| 500/500 [06:09<00:00,  1.35it/s]\n"
          ]
        },
        {
          "name": "stdout",
          "output_type": "stream",
          "text": [
            "Epoch 14/16 - Average Training Loss: 0.0015\n"
          ]
        },
        {
          "name": "stderr",
          "output_type": "stream",
          "text": [
            "                                                                         \r"
          ]
        },
        {
          "name": "stdout",
          "output_type": "stream",
          "text": [
            "Epoch 14/16 - Accuracy: 0.9980\n",
            "Epoch 14/16 - Precision: 0.9966\n",
            "Epoch 14/16 - Recall: 0.9966\n"
          ]
        },
        {
          "name": "stderr",
          "output_type": "stream",
          "text": [
            "Epoch 15/16 [Training]:   0%|          | 0/500 [00:00<?, ?it/s]/home/george.ibrahim/anaconda3/envs/common/lib/python3.10/site-packages/transformers/tokenization_utils_base.py:2614: FutureWarning: The `pad_to_max_length` argument is deprecated and will be removed in a future version, use `padding=True` or `padding='longest'` to pad to the longest sequence in the batch, or use `padding='max_length'` to pad to a max length. In this case, you can give a specific length with `max_length` (e.g. `max_length=45`) or leave max_length to None to pad to the maximal input size of the model (e.g. 512 for Bert).\n",
            "  warnings.warn(\n",
            "Epoch 15/16 [Training]: 100%|██████████| 500/500 [06:10<00:00,  1.35it/s]\n"
          ]
        },
        {
          "name": "stdout",
          "output_type": "stream",
          "text": [
            "Epoch 15/16 - Average Training Loss: 0.0054\n"
          ]
        },
        {
          "name": "stderr",
          "output_type": "stream",
          "text": [
            "                                                                         \r"
          ]
        },
        {
          "name": "stdout",
          "output_type": "stream",
          "text": [
            "Epoch 15/16 - Accuracy: 0.9960\n",
            "Epoch 15/16 - Precision: 0.9898\n",
            "Epoch 15/16 - Recall: 0.9966\n"
          ]
        },
        {
          "name": "stderr",
          "output_type": "stream",
          "text": [
            "Epoch 16/16 [Training]:   0%|          | 0/500 [00:00<?, ?it/s]/home/george.ibrahim/anaconda3/envs/common/lib/python3.10/site-packages/transformers/tokenization_utils_base.py:2614: FutureWarning: The `pad_to_max_length` argument is deprecated and will be removed in a future version, use `padding=True` or `padding='longest'` to pad to the longest sequence in the batch, or use `padding='max_length'` to pad to a max length. In this case, you can give a specific length with `max_length` (e.g. `max_length=45`) or leave max_length to None to pad to the maximal input size of the model (e.g. 512 for Bert).\n",
            "  warnings.warn(\n",
            "Epoch 16/16 [Training]: 100%|██████████| 500/500 [06:09<00:00,  1.35it/s]\n"
          ]
        },
        {
          "name": "stdout",
          "output_type": "stream",
          "text": [
            "Epoch 16/16 - Average Training Loss: 0.0045\n"
          ]
        },
        {
          "name": "stderr",
          "output_type": "stream",
          "text": [
            "                                                                         "
          ]
        },
        {
          "name": "stdout",
          "output_type": "stream",
          "text": [
            "Epoch 16/16 - Accuracy: 0.9930\n",
            "Epoch 16/16 - Precision: 0.9931\n",
            "Epoch 16/16 - Recall: 0.9828\n"
          ]
        },
        {
          "name": "stderr",
          "output_type": "stream",
          "text": [
            "\r"
          ]
        }
      ],
      "source": [
        "from tqdm import tqdm\n",
        "from sklearn.metrics import accuracy_score, precision_score, recall_score\n",
        "\n",
        "device = torch.device(\"cuda\" if torch.cuda.is_available() else \"cpu\")\n",
        "model = model.to(device)\n",
        "\n",
        "optimizer = AdamW(model.parameters(), lr=2e-5)\n",
        "epochs = 16\n",
        "\n",
        "for epoch in range(epochs):\n",
        "    # Training\n",
        "    model.train()\n",
        "    total_loss = 0  # Initialize total loss for the epoch\n",
        "    train_loop = tqdm(train_data_loader, desc=f\"Epoch {epoch+1}/{epochs} [Training]\")\n",
        "\n",
        "    for batch in train_loop:\n",
        "        input_ids = batch['input_ids'].to(device)\n",
        "        attention_mask = batch['attention_mask'].to(device)\n",
        "        labels = batch['labels'].to(device)\n",
        "        optimizer.zero_grad()\n",
        "        outputs = model(input_ids, attention_mask=attention_mask, labels=labels)\n",
        "        loss = outputs.loss\n",
        "        total_loss += loss.item()  # Accumulate the loss\n",
        "        loss.backward()\n",
        "        optimizer.step()\n",
        "\n",
        "    avg_train_loss = total_loss / len(train_data_loader)  # Calculate average loss\n",
        "    print(f\"Epoch {epoch+1}/{epochs} - Average Training Loss: {avg_train_loss:.4f}\")\n",
        "\n",
        "    # Validation\n",
        "    model.eval()\n",
        "    total_eval_loss = 0\n",
        "\n",
        "    # Initialize lists to store predictions and true labels\n",
        "    all_predictions = []\n",
        "    all_true_labels = []\n",
        "\n",
        "    val_loop = tqdm(val_data_loader, desc=f\"Epoch {epoch+1}/{epochs} [Validation]\", leave=False)\n",
        "    for batch in val_loop:\n",
        "        input_ids = batch['input_ids'].to(device)\n",
        "        attention_mask = batch['attention_mask'].to(device)\n",
        "        labels = batch['labels'].to(device)\n",
        "\n",
        "        with torch.no_grad():\n",
        "            outputs = model(input_ids, attention_mask=attention_mask, labels=labels)\n",
        "\n",
        "        loss = outputs.loss\n",
        "        total_eval_loss += loss.item()\n",
        "\n",
        "        logits = outputs.logits\n",
        "        # Convert logits to probabilities and then to predicted labels\n",
        "        predictions = torch.argmax(logits, dim=-1)\n",
        "        all_predictions.extend(predictions.detach().cpu().numpy())\n",
        "        all_true_labels.extend(labels.detach().cpu().numpy())\n",
        "\n",
        "    # Calculate metrics\n",
        "    accuracy = accuracy_score(all_true_labels, all_predictions)\n",
        "    precision = precision_score(all_true_labels, all_predictions)  # use average='binary' for binary classification\n",
        "    recall = recall_score(all_true_labels, all_predictions)  # use average='binary' for binary classification\n",
        "\n",
        "    # Print metrics\n",
        "    print(f\"Epoch {epoch+1}/{epochs} - Accuracy: {accuracy:.4f}\")\n",
        "    print(f\"Epoch {epoch+1}/{epochs} - Precision: {precision:.4f}\")\n",
        "    print(f\"Epoch {epoch+1}/{epochs} - Recall: {recall:.4f}\")\n",
        "\n"
      ]
    },
    {
      "cell_type": "code",
      "execution_count": 10,
      "metadata": {
        "id": "lmNCK1_KT5_6"
      },
      "outputs": [
        {
          "data": {
            "text/plain": [
              "('/home/george.ibrahim/Downloads/AI701/Project/RoBERTa_Fever_6/tokenizer_config.json',\n",
              " '/home/george.ibrahim/Downloads/AI701/Project/RoBERTa_Fever_6/special_tokens_map.json',\n",
              " '/home/george.ibrahim/Downloads/AI701/Project/RoBERTa_Fever_6/vocab.json',\n",
              " '/home/george.ibrahim/Downloads/AI701/Project/RoBERTa_Fever_6/merges.txt',\n",
              " '/home/george.ibrahim/Downloads/AI701/Project/RoBERTa_Fever_6/added_tokens.json')"
            ]
          },
          "execution_count": 10,
          "metadata": {},
          "output_type": "execute_result"
        }
      ],
      "source": [
        "model_path = \"/home/george.ibrahim/Downloads/AI701/Project/RoBERTa_Fever_6\"\n",
        "\n",
        "model.save_pretrained(model_path)\n",
        "tokenizer.save_pretrained(model_path)\n"
      ]
    },
    {
      "cell_type": "code",
      "execution_count": 11,
      "metadata": {
        "id": "uzC_ERtXUYFt"
      },
      "outputs": [],
      "source": [
        "from transformers import RobertaTokenizer, RobertaForSequenceClassification\n",
        "\n",
        "# Path to your saved model\n",
        "model_path = \"/home/george.ibrahim/Downloads/AI701/Project/RoBERTa_Fever_6\"\n",
        "\n",
        "# Load the tokenizer and model\n",
        "tokenizer = RobertaTokenizer.from_pretrained(model_path)\n",
        "model = RobertaForSequenceClassification.from_pretrained(model_path)\n"
      ]
    },
    {
      "cell_type": "code",
      "execution_count": 12,
      "metadata": {
        "id": "3rPnLNySUih-"
      },
      "outputs": [
        {
          "name": "stderr",
          "output_type": "stream",
          "text": [
            "/home/george.ibrahim/anaconda3/envs/common/lib/python3.10/site-packages/transformers/tokenization_utils_base.py:2614: FutureWarning: The `pad_to_max_length` argument is deprecated and will be removed in a future version, use `padding=True` or `padding='longest'` to pad to the longest sequence in the batch, or use `padding='max_length'` to pad to a max length. In this case, you can give a specific length with `max_length` (e.g. `max_length=45`) or leave max_length to None to pad to the maximal input size of the model (e.g. 512 for Bert).\n",
            "  warnings.warn(\n"
          ]
        },
        {
          "name": "stdout",
          "output_type": "stream",
          "text": [
            "Test Accuracy: 0.99\n",
            "Test Precision: 1.00\n",
            "Test Recall: 0.97\n",
            "Test f1_score: 0.98\n"
          ]
        }
      ],
      "source": [
        "import torch\n",
        "from sklearn.metrics import accuracy_score, precision_score, recall_score, f1_score\n",
        "\n",
        "device = torch.device(\"cuda\" if torch.cuda.is_available() else \"cpu\")\n",
        "model = model.to(device)\n",
        "\n",
        "import numpy as np\n",
        "\n",
        "# Initialize lists to store all predictions and labels\n",
        "all_predictions = []\n",
        "all_true_labels = []\n",
        "\n",
        "# Evaluation\n",
        "model.eval()\n",
        "\n",
        "for batch in test_data_loader:\n",
        "    input_ids = batch['input_ids'].to(device)\n",
        "    attention_mask = batch['attention_mask'].to(device)\n",
        "    labels = batch['labels'].to(device)\n",
        "\n",
        "    with torch.no_grad():\n",
        "        outputs = model(input_ids, attention_mask=attention_mask, labels=labels)\n",
        "\n",
        "    logits = outputs.logits\n",
        "    logits = logits.detach().cpu().numpy()\n",
        "    label_ids = labels.to('cpu').numpy()\n",
        "\n",
        "    # Flatten the outputs and labels and store them\n",
        "    all_predictions.extend(np.argmax(logits, axis=1).flatten())\n",
        "    all_true_labels.extend(label_ids.flatten())\n",
        "\n",
        "# Compute metrics\n",
        "accuracy = accuracy_score(all_true_labels, all_predictions)\n",
        "precision = precision_score(all_true_labels, all_predictions)\n",
        "recall = recall_score(all_true_labels, all_predictions)\n",
        "f1_score = f1_score(all_true_labels, all_predictions)\n",
        "\n",
        "# Print metrics\n",
        "print(\"Test Accuracy: {0:.2f}\".format(accuracy))\n",
        "print(\"Test Precision: {0:.2f}\".format(precision))\n",
        "print(\"Test Recall: {0:.2f}\".format(recall))\n",
        "print(\"Test f1_score: {0:.2f}\".format(f1_score))\n",
        "\n"
      ]
    }
  ],
  "metadata": {
    "accelerator": "GPU",
    "colab": {
      "gpuType": "T4",
      "provenance": []
    },
    "kernelspec": {
      "display_name": "Python 3",
      "name": "python3"
    },
    "language_info": {
      "codemirror_mode": {
        "name": "ipython",
        "version": 3
      },
      "file_extension": ".py",
      "mimetype": "text/x-python",
      "name": "python",
      "nbconvert_exporter": "python",
      "pygments_lexer": "ipython3",
      "version": "3.10.13"
    }
  },
  "nbformat": 4,
  "nbformat_minor": 0
}
